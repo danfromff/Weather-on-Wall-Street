{
 "cells": [
  {
   "cell_type": "code",
   "execution_count": 25,
   "id": "eefbe3bc",
   "metadata": {},
   "outputs": [],
   "source": [
    "#This project is simply to show how to use SQLite to compile and combine tables, and then how to\n",
    "#move those tables into arrays and dataframes so that we can use the Python tools on the data.  \n",
    "#I chose to examine the possible relationship between the weather in New York City and the \n",
    "#performance of the S&P 500.  \n",
    "import sqlite3\n",
    "import pandas as pd\n",
    "import numpy as np\n",
    "import seaborn as sns\n",
    "import matplotlib.pylab as plt"
   ]
  },
  {
   "cell_type": "code",
   "execution_count": 26,
   "id": "2a2158df",
   "metadata": {},
   "outputs": [],
   "source": [
    "#First we create the SQL database (this is only stored in this worksheet; it won't exist elsewhere)\n",
    "conn = sqlite3.connect('weatherwallstreet.db')"
   ]
  },
  {
   "cell_type": "code",
   "execution_count": 27,
   "id": "0b6fa997",
   "metadata": {},
   "outputs": [],
   "source": [
    "#Pull in the first stet of data.  This is daily weather data collected by Laguardia Airport from \n",
    "#1990 to 2020.  This was provided by ww.ncdc.noaa.gov, which I highlyy recommend in case you ever\n",
    "#need weather data.   \n",
    "weather_data = pd.read_csv(r'C:\\Users\\danbr\\OneDrive\\Documents\\Data Science\\Weather Data NYC.csv')"
   ]
  },
  {
   "cell_type": "code",
   "execution_count": 28,
   "id": "e6432332",
   "metadata": {},
   "outputs": [],
   "source": [
    "#Next we pull in the stock data.  This is the daily performance of the S&P 500 over the same period\n",
    "#as the weather data (1990 -2020).  This was pulled from Yahoo finance, and I included a column that\n",
    "#describes the daily rate of change in the index price.\n",
    "stock_data= pd.read_csv(r\"C:\\Users\\danbr\\OneDrive\\Documents\\Data Science\\SP 30 yr daily.csv\")"
   ]
  },
  {
   "cell_type": "code",
   "execution_count": 29,
   "id": "a3ab2716",
   "metadata": {},
   "outputs": [],
   "source": [
    "#We have our CSV's, but they're in pandas.  We need them in the SQL database we created.  Here is \n",
    "#how we move them in:\n",
    "weather_data.to_sql('weather', conn, if_exists='replace', index=False)"
   ]
  },
  {
   "cell_type": "code",
   "execution_count": 30,
   "id": "63d5c0a5",
   "metadata": {},
   "outputs": [],
   "source": [
    "stock_data.to_sql('stock', conn, if_exists='replace', index=False)"
   ]
  },
  {
   "cell_type": "code",
   "execution_count": 31,
   "id": "43adcc84",
   "metadata": {},
   "outputs": [],
   "source": [
    "#For SQLite in Python we need to create a cursor object:\n",
    "cur = conn.cursor()"
   ]
  },
  {
   "cell_type": "code",
   "execution_count": 32,
   "id": "eb7d492c",
   "metadata": {},
   "outputs": [],
   "source": [
    "#Now I'll define a variable with the instructions I want to enter into SQL.  Note that we use the\n",
    "#three quote marks to indicate this is a multi-line string.  I'm specifying which columns I want to\n",
    "#pull from each table.  I'm using an Inner Join for this.  The most important detail here is that \n",
    "#we join on the matching dates only.  The stock market is closed weekends and holidays, but the \n",
    "#weather is every day.  We want to make sure we're only looking at trading days.\n",
    "sq_go = '''SELECT stock.rate, stock.Close, stock.High, stock.Low, weather.HighTemp, weather.LowTemp, weather.Precip, weather.Snowfall, weather.Wind, weather.SnowDepth\n",
    "FROM stock\n",
    "INNER JOIN weather\n",
    "ON stock.DATE = weather.DATE;'''"
   ]
  },
  {
   "cell_type": "code",
   "execution_count": 33,
   "id": "bd2409bb",
   "metadata": {},
   "outputs": [
    {
     "data": {
      "text/plain": [
       "<sqlite3.Cursor at 0x1f0c6a14dc0>"
      ]
     },
     "execution_count": 33,
     "metadata": {},
     "output_type": "execute_result"
    }
   ],
   "source": [
    "#Instrunting the cursor object to execute the text in our variable\n",
    "cur.execute(sq_go)"
   ]
  },
  {
   "cell_type": "code",
   "execution_count": 36,
   "id": "f227bdd7",
   "metadata": {},
   "outputs": [],
   "source": [
    "#Now to pull out the results and assign them a variable.\n",
    "result = cur.fetchall()"
   ]
  },
  {
   "cell_type": "code",
   "execution_count": 16,
   "id": "a0bb79d9",
   "metadata": {},
   "outputs": [
    {
     "data": {
      "text/plain": [
       "list"
      ]
     },
     "execution_count": 16,
     "metadata": {},
     "output_type": "execute_result"
    }
   ],
   "source": [
    "#So, we have our numbers.  Is it a dataframe?  Is it an array?  Let's check:\n",
    "type(result)"
   ]
  },
  {
   "cell_type": "code",
   "execution_count": 17,
   "id": "7fb3c630",
   "metadata": {},
   "outputs": [],
   "source": [
    "#All right.  It's a list.  Let's make an array 'num' out of our list 'result'\n",
    "num=np.array(result)"
   ]
  },
  {
   "cell_type": "code",
   "execution_count": 18,
   "id": "3b042111",
   "metadata": {},
   "outputs": [],
   "source": [
    "#Now let's make a dataframe out of that array.  We'll use 'num' as the data, and add column names.\n",
    "#Make sure the column names are in the same order we pulled them in SQL.\n",
    "data=pd.DataFrame(num, columns=['Rate', 'Close', 'StockHigh', 'StockLow', 'TempHigh', 'TempLow', 'Rain', 'Snowfall', 'Wind', 'SnowDepth'])"
   ]
  },
  {
   "cell_type": "code",
   "execution_count": 19,
   "id": "c487994b",
   "metadata": {},
   "outputs": [
    {
     "name": "stdout",
     "output_type": "stream",
     "text": [
      "      Rate    Close  StockHigh  StockLow  TempHigh  TempLow  Rain  Snowfall  \\\n",
      "0     0.29  3230.78    3231.72   3212.03      46.0     38.0  0.01       0.0   \n",
      "1    -0.58  3221.29    3240.92   3216.57      43.0     38.0  0.49       0.0   \n",
      "2     0.00  3240.02    3247.93   3234.37      54.0     42.0  0.00       0.0   \n",
      "3     0.51  3239.91    3240.08   3227.20      46.0     36.0  0.00       0.0   \n",
      "4    -0.02  3223.38    3226.43   3220.51      48.0     36.0  0.00       0.0   \n",
      "...    ...      ...        ...       ...       ...      ...   ...       ...   \n",
      "7554  0.45   353.79     354.24    350.54      41.0     34.0  0.85       2.1   \n",
      "7555 -0.98   352.20     355.67    351.35      50.0     37.0  0.00       0.0   \n",
      "7556 -0.86   355.67     358.76    352.89      51.0     39.0  0.01       0.0   \n",
      "7557 -0.26   358.76     360.59    357.89      50.0     36.0  0.00       0.0   \n",
      "7558  0.00   359.69     359.69    351.98      43.0     31.0  0.00       0.0   \n",
      "\n",
      "       Wind  SnowDepth  \n",
      "0      9.40        0.0  \n",
      "1     17.90        0.0  \n",
      "2      8.95        0.0  \n",
      "3      8.50        0.0  \n",
      "4      8.50        0.0  \n",
      "...     ...        ...  \n",
      "7554   8.72        0.0  \n",
      "7555  10.96        0.0  \n",
      "7556  11.41        0.0  \n",
      "7557   8.72        0.0  \n",
      "7558  15.21        0.0  \n",
      "\n",
      "[7559 rows x 10 columns]\n"
     ]
    }
   ],
   "source": [
    "#How does that look?\n",
    "print(data)"
   ]
  },
  {
   "cell_type": "code",
   "execution_count": 20,
   "id": "5d5513ff",
   "metadata": {},
   "outputs": [
    {
     "data": {
      "image/png": "[encoded data removed]",
      "text/plain": [
       "<Figure size 1152x1008 with 2 Axes>"
      ]
     },
     "metadata": {
      "needs_background": "light"
     },
     "output_type": "display_data"
    }
   ],
   "source": [
    "#Looking good!  Let's examine this data!  What is the correlation between temperature, rain,\n",
    "#snow, and the S&P?  Where to begin?  I like to run a heat map.  We can visualize correlations\n",
    "#and get an idea of where to start.\n",
    "corr = data.corr()\n",
    "plt.figure(figsize=(16, 14))\n",
    "sns.heatmap(corr, vmax=0.5, center=0,\n",
    "            square=True, linewidths=2, cmap='Blues')\n",
    "plt.savefig(\"heatmap.png\")\n",
    "plt.show()"
   ]
  },
  {
   "cell_type": "code",
   "execution_count": 22,
   "id": "7ea1a88c",
   "metadata": {},
   "outputs": [
    {
     "name": "stdout",
     "output_type": "stream",
     "text": [
      "0.008690446793258205\n"
     ]
    }
   ],
   "source": [
    "#Hmph.  The only meaningful correlations seem to be the stock prices (amongst themselves)\n",
    "#and the daily highs and lows.  Well.  I'm disappointed, but I guess  it makes sense.  The \n",
    "#stock market is indoors.  Why would the weather matter?  \n",
    "#But let's look closer.  What is the correlation coefficient for the daily rate and daily rain?\n",
    "print(data['Rate'].corr(data['Rain']))"
   ]
  },
  {
   "cell_type": "code",
   "execution_count": null,
   "id": "b017807f",
   "metadata": {},
   "outputs": [],
   "source": [
    "#OOF!!  That's not correlated at all.  All right, this one's a rain out.  No relationship between\n",
    "#stock prices and weather. Still, that was a good use of SQL and Python.  And now we know!"
   ]
  }
 ],
 "metadata": {
  "kernelspec": {
   "display_name": "Python 3 (ipykernel)",
   "language": "python",
   "name": "python3"
  },
  "language_info": {
   "codemirror_mode": {
    "name": "ipython",
    "version": 3
   },
   "file_extension": ".py",
   "mimetype": "text/x-python",
   "name": "python",
   "nbconvert_exporter": "python",
   "pygments_lexer": "ipython3",
   "version": "3.9.7"
  }
 },
 "nbformat": 4,
 "nbformat_minor": 5
}
